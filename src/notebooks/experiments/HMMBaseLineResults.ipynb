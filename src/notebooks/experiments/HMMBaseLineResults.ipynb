{
 "cells": [
  {
   "cell_type": "code",
   "execution_count": 1,
   "metadata": {
    "collapsed": true
   },
   "outputs": [],
   "source": [
    "import sys\n",
    "import os\n",
    "sys.path.insert(0, r\"C:\\Users\\Yarden\\Computer Science\\Masters\\1\\Advance Machine Learning\\final project\\src\")"
   ]
  },
  {
   "cell_type": "code",
   "execution_count": 2,
   "outputs": [
    {
     "name": "stderr",
     "output_type": "stream",
     "text": [
      "C:\\Users\\Yarden\\anaconda3\\envs\\final project\\lib\\site-packages\\tslearn\\clustering\\kmeans.py:16: UserWarning: Scikit-learn <0.24 will be deprecated in a future release of tslearn\n",
      "  warnings.warn(\n"
     ]
    }
   ],
   "source": [
    "from utils import DataUtils\n",
    "from TCK import TCK\n",
    "from GMM_MAP_EM import GMM_MAP_EM, HMM_GMM\n",
    "\n",
    "from pathlib import Path\n",
    "import numpy as np\n",
    "import pickle\n",
    "\n",
    "from sklearn.metrics import accuracy_score\n",
    "from sklearn.decomposition import KernelPCA\n",
    "import matplotlib.pyplot as plt"
   ],
   "metadata": {
    "collapsed": false,
    "pycharm": {
     "name": "#%%\n"
    }
   }
  },
  {
   "cell_type": "code",
   "execution_count": 3,
   "outputs": [],
   "source": [
    "root_path = Path(r\"..\\..\\..\\.\")\n",
    "data_path = root_path / \"data\"\n",
    "models_path = root_path / \"models\""
   ],
   "metadata": {
    "collapsed": false,
    "pycharm": {
     "name": "#%%\n"
    }
   }
  },
  {
   "cell_type": "code",
   "execution_count": 10,
   "outputs": [],
   "source": [
    "def run_evaluation(dataset_name, tck_model_args):\n",
    "    similarity_function = tck_model_args['similarity_function']\n",
    "    C = tck_model_args['C']\n",
    "    Q = tck_model_args['Q']\n",
    "    single_gmm_num_iter = tck_model_args['single_gmm_num_iter']\n",
    "    max_features = tck_model_args['max_features']\n",
    "    model = tck_model_args['model']\n",
    "\n",
    "    if model == 'HMM':\n",
    "        model_name = f\"model-{model}_similarity_function-{similarity_function}_C-{C}_Q-{Q}_single_gmm_num_iter-{single_gmm_num_iter}_max_features-{max_features}\"\n",
    "    else:\n",
    "        model_name = f\"similarity_function-{similarity_function}_C-{C}_Q-{Q}_single_gmm_num_iter-{single_gmm_num_iter}_max_features-{max_features}\"\n",
    "    path = models_path / dataset_name / model_name\n",
    "    X_train, X_test, y_train, y_test = DataUtils.load_numpy_array(data_path / dataset_name)\n",
    "    with open(path / \"model\", \"rb\") as fis:\n",
    "        tck_model = pickle.loads(fis.read())\n",
    "\n",
    "    K_star = np.load(path / \"K_Star.npy\")\n",
    "\n",
    "    tck_y_pred = y_train[K_star.T.argmax(axis=1)].astype(int)\n",
    "    accuracy = accuracy_score(y_test, tck_y_pred)\n",
    "    print(f\"accuracy = {accuracy}\")\n",
    "\n",
    "    X_pca = KernelPCA(n_components=2, kernel='precomputed').fit_transform(tck_model.K)\n",
    "\n",
    "    plt.scatter(X_pca[:, 0], X_pca[:, 1], c=y_train)\n",
    "    plt.show()"
   ],
   "metadata": {
    "collapsed": false,
    "pycharm": {
     "name": "#%%\n"
    }
   }
  },
  {
   "cell_type": "markdown",
   "source": [
    "# ECG"
   ],
   "metadata": {
    "collapsed": false,
    "pycharm": {
     "name": "#%% md\n"
    }
   }
  },
  {
   "cell_type": "code",
   "execution_count": 11,
   "outputs": [
    {
     "name": "stdout",
     "output_type": "stream",
     "text": [
      "accuracy = 0.66\n"
     ]
    },
    {
     "data": {
      "text/plain": "<Figure size 432x288 with 1 Axes>",
      "image/png": "[encoded data removed]"
     },
     "metadata": {
      "needs_background": "light"
     },
     "output_type": "display_data"
    }
   ],
   "source": [
    "tck_model_args = {}\n",
    "tck_model_args['similarity_function'] = \"linear\"\n",
    "tck_model_args['C'] =  5\n",
    "tck_model_args['Q'] = 5\n",
    "tck_model_args['single_gmm_num_iter'] = 10\n",
    "tck_model_args['max_features'] = 'all'\n",
    "tck_model_args['model'] = 'HMM'\n",
    "dataset_name = \"ECG\"\n",
    "\n",
    "run_evaluation(dataset_name, tck_model_args)"
   ],
   "metadata": {
    "collapsed": false,
    "pycharm": {
     "name": "#%%\n"
    }
   }
  },
  {
   "cell_type": "code",
   "execution_count": 15,
   "outputs": [],
   "source": [
    "def run_evaluation(dataset_name, tck_model_args):\n",
    "    similarity_function = tck_model_args['similarity_function']\n",
    "    C = tck_model_args['C']\n",
    "    Q = tck_model_args['Q']\n",
    "    single_gmm_num_iter = tck_model_args['single_gmm_num_iter']\n",
    "    max_features = tck_model_args['max_features']\n",
    "    model = tck_model_args['model']\n",
    "\n",
    "    if model == 'HMM':\n",
    "        model_name = f\"model-{model}_similarity_function-{similarity_function}_C-{C}_Q-{Q}_single_gmm_num_iter-{single_gmm_num_iter}_max_features-{max_features}\"\n",
    "    else:\n",
    "        model_name = f\"similarity_function-{similarity_function}_C-{C}_Q-{Q}_single_gmm_num_iter-{single_gmm_num_iter}_max_features-{max_features}\"\n",
    "    path = models_path / dataset_name / model_name\n",
    "    X_train, X_test, y_train, y_test = DataUtils.load_numpy_array(data_path / dataset_name)\n",
    "\n",
    "    K_star = np.load(path / \"K_Star.npy\")\n",
    "    K = np.load(path / \"K.npy\")\n",
    "\n",
    "    tck_y_pred = y_train[K_star.T.argmax(axis=1)].astype(int)\n",
    "    accuracy = accuracy_score(y_test, tck_y_pred)\n",
    "    print(f\"accuracy = {accuracy}\")\n",
    "\n",
    "    X_pca = KernelPCA(n_components=2, kernel='precomputed').fit_transform(K)\n",
    "\n",
    "    plt.scatter(X_pca[:, 0], X_pca[:, 1], c=y_train)\n",
    "    plt.show()"
   ],
   "metadata": {
    "collapsed": false,
    "pycharm": {
     "name": "#%%\n"
    }
   }
  },
  {
   "cell_type": "code",
   "execution_count": 16,
   "outputs": [
    {
     "name": "stdout",
     "output_type": "stream",
     "text": [
      "accuracy = 0.75\n"
     ]
    },
    {
     "data": {
      "text/plain": "<Figure size 432x288 with 1 Axes>",
      "image/png": "[encoded data removed]"
     },
     "metadata": {
      "needs_background": "light"
     },
     "output_type": "display_data"
    }
   ],
   "source": [
    "tck_model_args = {}\n",
    "tck_model_args['similarity_function'] = \"jensenshannon\"\n",
    "tck_model_args['C'] =  5\n",
    "tck_model_args['Q'] = 5\n",
    "tck_model_args['single_gmm_num_iter'] = 10\n",
    "tck_model_args['max_features'] = 'all'\n",
    "tck_model_args['model'] = 'HMM'\n",
    "dataset_name = \"ECG\"\n",
    "\n",
    "run_evaluation(dataset_name, tck_model_args)"
   ],
   "metadata": {
    "collapsed": false,
    "pycharm": {
     "name": "#%%\n"
    }
   }
  },
  {
   "cell_type": "markdown",
   "source": [
    "# ==="
   ],
   "metadata": {
    "collapsed": false,
    "pycharm": {
     "name": "#%% md\n"
    }
   }
  }
 ],
 "metadata": {
  "kernelspec": {
   "display_name": "Python 3",
   "language": "python",
   "name": "python3"
  },
  "language_info": {
   "codemirror_mode": {
    "name": "ipython",
    "version": 2
   },
   "file_extension": ".py",
   "mimetype": "text/x-python",
   "name": "python",
   "nbconvert_exporter": "python",
   "pygments_lexer": "ipython2",
   "version": "2.7.6"
  }
 },
 "nbformat": 4,
 "nbformat_minor": 0
}