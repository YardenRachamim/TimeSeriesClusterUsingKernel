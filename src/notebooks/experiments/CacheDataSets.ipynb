{
 "cells": [
  {
   "cell_type": "code",
   "execution_count": 78,
   "id": "9fd3d3a2",
   "metadata": {},
   "outputs": [],
   "source": [
    "import sys\n",
    "import os\n",
    "\n",
    "sys.path.insert(0, r\"C:\\Users\\Yarden\\Computer Science\\Masters\\1\\Advance Machine Learning\\final project\\src\")"
   ]
  },
  {
   "cell_type": "code",
   "execution_count": 79,
   "id": "d4abb215",
   "metadata": {},
   "outputs": [],
   "source": [
    "from pathlib import Path\n",
    "import numpy as np"
   ]
  },
  {
   "cell_type": "code",
   "execution_count": 80,
   "id": "fd23fd7a",
   "metadata": {},
   "outputs": [],
   "source": [
    "root_path = Path(r\"..\\..\\..\\.\")\n",
    "data_path = root_path / \"data\"\n",
    "models_path = root_path / \"models\""
   ]
  },
  {
   "cell_type": "code",
   "execution_count": 81,
   "id": "6c1f911c",
   "metadata": {},
   "outputs": [],
   "source": [
    "data_set_name = \"PenDigits\""
   ]
  },
  {
   "cell_type": "code",
   "execution_count": 91,
   "id": "ab8449d0",
   "metadata": {},
   "outputs": [],
   "source": [
    "import pandas as pd\n",
    "train = pd.read_csv(r\"C:\\Users\\Yarden\\Computer Science\\Masters\\1\\Advance Machine Learning\\final project\\mts_dataset\\PenDigits\\PenDigits_TRAIN\", header=None, sep='\\t')\n",
    "test = pd.read_csv(r\"C:\\Users\\Yarden\\Computer Science\\Masters\\1\\Advance Machine Learning\\final project\\mts_dataset\\PenDigits\\PenDigits_TEST\", header=None, sep='\\t')\n",
    "\n",
    "# train.set_index(0, inplace=True)\n",
    "# test.set_index(0, inplace=True)"
   ]
  },
  {
   "cell_type": "code",
   "execution_count": 92,
   "id": "4c47f072",
   "metadata": {
    "collapsed": true
   },
   "outputs": [
    {
     "data": {
      "text/html": [
       "<div>\n",
       "<style scoped>\n",
       "    .dataframe tbody tr th:only-of-type {\n",
       "        vertical-align: middle;\n",
       "    }\n",
       "\n",
       "    .dataframe tbody tr th {\n",
       "        vertical-align: top;\n",
       "    }\n",
       "\n",
       "    .dataframe thead th {\n",
       "        text-align: right;\n",
       "    }\n",
       "</style>\n",
       "<table border=\"1\" class=\"dataframe\">\n",
       "  <thead>\n",
       "    <tr style=\"text-align: right;\">\n",
       "      <th></th>\n",
       "      <th>0</th>\n",
       "      <th>1</th>\n",
       "      <th>2</th>\n",
       "      <th>3</th>\n",
       "      <th>4</th>\n",
       "    </tr>\n",
       "  </thead>\n",
       "  <tbody>\n",
       "    <tr>\n",
       "      <th>0</th>\n",
       "      <td>1</td>\n",
       "      <td>1</td>\n",
       "      <td>7</td>\n",
       "      <td>0</td>\n",
       "      <td>98</td>\n",
       "    </tr>\n",
       "    <tr>\n",
       "      <th>1</th>\n",
       "      <td>1</td>\n",
       "      <td>2</td>\n",
       "      <td>7</td>\n",
       "      <td>36</td>\n",
       "      <td>100</td>\n",
       "    </tr>\n",
       "    <tr>\n",
       "      <th>2</th>\n",
       "      <td>1</td>\n",
       "      <td>3</td>\n",
       "      <td>7</td>\n",
       "      <td>80</td>\n",
       "      <td>85</td>\n",
       "    </tr>\n",
       "    <tr>\n",
       "      <th>3</th>\n",
       "      <td>1</td>\n",
       "      <td>4</td>\n",
       "      <td>7</td>\n",
       "      <td>68</td>\n",
       "      <td>42</td>\n",
       "    </tr>\n",
       "    <tr>\n",
       "      <th>4</th>\n",
       "      <td>1</td>\n",
       "      <td>5</td>\n",
       "      <td>7</td>\n",
       "      <td>56</td>\n",
       "      <td>0</td>\n",
       "    </tr>\n",
       "    <tr>\n",
       "      <th>...</th>\n",
       "      <td>...</td>\n",
       "      <td>...</td>\n",
       "      <td>...</td>\n",
       "      <td>...</td>\n",
       "      <td>...</td>\n",
       "    </tr>\n",
       "    <tr>\n",
       "      <th>2395</th>\n",
       "      <td>300</td>\n",
       "      <td>4</td>\n",
       "      <td>8</td>\n",
       "      <td>100</td>\n",
       "      <td>18</td>\n",
       "    </tr>\n",
       "    <tr>\n",
       "      <th>2396</th>\n",
       "      <td>300</td>\n",
       "      <td>5</td>\n",
       "      <td>8</td>\n",
       "      <td>16</td>\n",
       "      <td>0</td>\n",
       "    </tr>\n",
       "    <tr>\n",
       "      <th>2397</th>\n",
       "      <td>300</td>\n",
       "      <td>6</td>\n",
       "      <td>8</td>\n",
       "      <td>0</td>\n",
       "      <td>33</td>\n",
       "    </tr>\n",
       "    <tr>\n",
       "      <th>2398</th>\n",
       "      <td>300</td>\n",
       "      <td>7</td>\n",
       "      <td>8</td>\n",
       "      <td>36</td>\n",
       "      <td>68</td>\n",
       "    </tr>\n",
       "    <tr>\n",
       "      <th>2399</th>\n",
       "      <td>300</td>\n",
       "      <td>8</td>\n",
       "      <td>8</td>\n",
       "      <td>48</td>\n",
       "      <td>100</td>\n",
       "    </tr>\n",
       "  </tbody>\n",
       "</table>\n",
       "<p>2400 rows × 5 columns</p>\n",
       "</div>"
      ],
      "text/plain": [
       "        0  1  2    3    4\n",
       "0       1  1  7    0   98\n",
       "1       1  2  7   36  100\n",
       "2       1  3  7   80   85\n",
       "3       1  4  7   68   42\n",
       "4       1  5  7   56    0\n",
       "...   ... .. ..  ...  ...\n",
       "2395  300  4  8  100   18\n",
       "2396  300  5  8   16    0\n",
       "2397  300  6  8    0   33\n",
       "2398  300  7  8   36   68\n",
       "2399  300  8  8   48  100\n",
       "\n",
       "[2400 rows x 5 columns]"
      ]
     },
     "execution_count": 92,
     "metadata": {},
     "output_type": "execute_result"
    }
   ],
   "source": [
    "train"
   ]
  },
  {
   "cell_type": "code",
   "execution_count": 107,
   "id": "5563cd34",
   "metadata": {},
   "outputs": [],
   "source": [
    "train_labels = train[[0, 2]]\n",
    "test_labels = test[[0, 2]]"
   ]
  },
  {
   "cell_type": "code",
   "execution_count": 94,
   "id": "4671272c",
   "metadata": {},
   "outputs": [],
   "source": [
    "train_features = train.loc[:, [3, 4]]\n",
    "test_features = test.loc[:, [3, 4]]"
   ]
  },
  {
   "cell_type": "code",
   "execution_count": 105,
   "id": "96a67be9",
   "metadata": {},
   "outputs": [],
   "source": [
    "X_train = train_features.values.reshape(train[0].nunique(), -1, 2)\n",
    "X_test = test_features.values.reshape(test[0].nunique(), -1, 2)"
   ]
  },
  {
   "cell_type": "code",
   "execution_count": 98,
   "id": "99942c0c",
   "metadata": {},
   "outputs": [
    {
     "data": {
      "text/plain": [
       "(300, 8, 2)"
      ]
     },
     "execution_count": 98,
     "metadata": {},
     "output_type": "execute_result"
    }
   ],
   "source": [
    "X_train.shape"
   ]
  },
  {
   "cell_type": "code",
   "execution_count": 99,
   "id": "a0056525",
   "metadata": {},
   "outputs": [
    {
     "data": {
      "text/plain": [
       "(10692, 8, 2)"
      ]
     },
     "execution_count": 99,
     "metadata": {},
     "output_type": "execute_result"
    }
   ],
   "source": [
    "X_test.shape"
   ]
  },
  {
   "cell_type": "code",
   "execution_count": 118,
   "id": "00917e18",
   "metadata": {},
   "outputs": [],
   "source": [
    "y_train = train_labels.groupby(0).first().values.reshape(train[0].nunique(), )\n",
    "y_test = test_labels.groupby(0).first().values.reshape(test[0].nunique(), )"
   ]
  },
  {
   "cell_type": "code",
   "execution_count": 119,
   "id": "ed8cf63a",
   "metadata": {},
   "outputs": [],
   "source": [
    "def save_numpy_array(data_set_name: str,\n",
    "                    X_train: np.ndarray,\n",
    "                    X_test: np.ndarray,\n",
    "                    y_train: np.ndarray,\n",
    "                    y_test: np.ndarray):\n",
    "    path = data_path / data_set_name\n",
    "    \n",
    "    np.save(path / \"X_train.npy\", X_train)\n",
    "    np.save(path / \"X_test.npy\", X_test)\n",
    "    np.save(path / \"y_train.npy\", y_train)\n",
    "    np.save(path / \"y_test.npy\", y_test)\n",
    "\n",
    "def load_numpy_array(data_set_name: str):\n",
    "    path = data_path / data_set_name\n",
    "    \n",
    "    X_train = np.load(path / \"X_train.npy\")\n",
    "    X_test = np.load(path / \"X_test.npy\")\n",
    "    y_train = np.load(path / \"y_train.npy\")\n",
    "    y_test = np.load(path / \"y_test.npy\")\n",
    "    \n",
    "    return X_train, X_test, y_train, y_test"
   ]
  },
  {
   "cell_type": "code",
   "execution_count": 120,
   "id": "4feab85e",
   "metadata": {},
   "outputs": [],
   "source": [
    "save_numpy_array(data_set_name, X_train, X_test, y_train, y_test)"
   ]
  },
  {
   "cell_type": "markdown",
   "id": "0bcd6a97",
   "metadata": {},
   "source": [
    "# ===="
   ]
  },
  {
   "cell_type": "code",
   "execution_count": 133,
   "id": "09fd699a",
   "metadata": {},
   "outputs": [],
   "source": [
    "import pickle\n",
    "\n",
    "with open(models_path / \"other\"/ \"arabic\", 'rb') as fis:\n",
    "    model_params = pickle.load(fis)"
   ]
  },
  {
   "cell_type": "code",
   "execution_count": 135,
   "id": "3f7413fe",
   "metadata": {},
   "outputs": [
    {
     "data": {
      "text/plain": [
       "{'rbf'}"
      ]
     },
     "execution_count": 135,
     "metadata": {},
     "output_type": "execute_result"
    }
   ],
   "source": [
    "model_params[0].similarity_function"
   ]
  },
  {
   "cell_type": "code",
   "execution_count": null,
   "id": "3335a723",
   "metadata": {},
   "outputs": [],
   "source": []
  }
 ],
 "metadata": {
  "kernelspec": {
   "display_name": "PyCharm (final project)",
   "language": "python",
   "name": "pycharm-80e2ff24"
  },
  "language_info": {
   "codemirror_mode": {
    "name": "ipython",
    "version": 3
   },
   "file_extension": ".py",
   "mimetype": "text/x-python",
   "name": "python",
   "nbconvert_exporter": "python",
   "pygments_lexer": "ipython3",
   "version": "3.8.10"
  }
 },
 "nbformat": 4,
 "nbformat_minor": 5
}
